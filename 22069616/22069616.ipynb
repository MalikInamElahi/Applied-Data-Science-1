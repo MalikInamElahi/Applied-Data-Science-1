{
 "cells": [
  {
   "cell_type": "code",
   "execution_count": 1,
   "metadata": {
    "executionInfo": {
     "elapsed": 1860,
     "status": "ok",
     "timestamp": 1705604333103,
     "user": {
      "displayName": "Muhammad Qasim Ali",
      "userId": "11839412955603691725"
     },
     "user_tz": -300
    },
    "id": "B7jeEYVB8B5V"
   },
   "outputs": [],
   "source": [
    "# All Libraries Add \n",
    "import pandas as pd\n",
    "import matplotlib.pyplot as plt\n",
    "import seaborn as sns\n",
    "import numpy as np\n",
    "from sklearn.preprocessing import StandardScaler\n",
    "from sklearn.cluster import KMeans\n",
    "from scipy.optimize import curve_fit"
   ]
  },
  {
   "cell_type": "code",
   "execution_count": null,
   "metadata": {
    "id": "m6I7Roqw8OXa"
   },
   "outputs": [],
   "source": [
    "# File paths for the datasets\n",
    "data = 'data1/API_SP.POP.TOTL_DS2_en_csv_v2_6298256.csv'\n",
    "country_file = 'data1/Metadata_Country_API_SP.POP.TOTL_DS2_en_csv_v2_6298256.csv'\n",
    "indicator_file = 'data1/Metadata_Indicator_API_SP.POP.TOTL_DS2_en_csv_v2_6298256.csv'\n",
    "\n",
    "def read_data(file_paths):\n",
    "    return pd.read_csv(file_paths[0], skiprows=4), pd.read_csv(file_paths[1]), pd.read_csv(file_paths[2])"
   ]
  },
  {
   "cell_type": "code",
   "execution_count": null,
   "metadata": {
    "id": "aCuVMAOb8TC_"
   },
   "outputs": [],
   "source": [
    "# data clean \n",
    "def clean_data(df):\n",
    "    df = df.dropna(axis=1, how='all')\n",
    "    year_columns = df.columns[4:]\n",
    "    df[year_columns] = df[year_columns].fillna(0)\n",
    "    df = df.drop_duplicates()\n",
    "    df[year_columns] = df[year_columns].astype(float)\n",
    "    for year in year_columns:\n",
    "        mean_value = df[year].mean()\n",
    "        std_dev = df[year].std()\n",
    "        outlier_threshold = mean_value + 3 * std_dev\n",
    "        df[year] = df[year].clip(upper=outlier_threshold)\n",
    "\n",
    "    return df"
   ]
  },
  {
   "cell_type": "code",
   "execution_count": null,
   "metadata": {
    "id": "pltSMu0x8UCI"
   },
   "outputs": [],
   "source": [
    "# cluster function \n",
    "def plot_clusters(df, centers):\n",
    "    plt.figure(figsize=(12, 6))\n",
    "    sns.scatterplot(data=df, x='2000', y='2020', hue='Cluster', legend='full')\n",
    "\n",
    "    for i, center in enumerate(centers):\n",
    "        plt.scatter(center[0], center[1], color='black', marker='X', s=100, edgecolor='w', label=f'Center {i+1}' if i == 0 else None)\n",
    "\n",
    "    plt.title('Clusters of Total Population Change (2000 vs 2020)')\n",
    "    plt.xlabel('Total Population in 2000 (%)')\n",
    "    plt.ylabel('Total Population in 2020 (%)')\n",
    "    plt.legend(bbox_to_anchor=(1.05, 1), loc='upper left')\n",
    "    plt.show()"
   ]
  },
  {
   "cell_type": "code",
   "execution_count": null,
   "metadata": {
    "id": "9tRAwpxD8Y1H"
   },
   "outputs": [],
   "source": [
    "def plot_histogram(data):\n",
    "    plt.figure(figsize=(8, 6))\n",
    "    sns.histplot(data['2020'].dropna(), kde=True)\n",
    "    plt.title('Distribution of Total Population in 2020')\n",
    "    plt.xlabel('Total Population (%)')\n",
    "    plt.ylabel('Frequency')\n",
    "    plt.show()"
   ]
  },
  {
   "cell_type": "code",
   "execution_count": null,
   "metadata": {
    "id": "rjDbd2KU8gsP"
   },
   "outputs": [],
   "source": [
    "def plot_boxplot(data, subset):\n",
    "    plt.figure(figsize=(12, 6))\n",
    "    sns.boxplot(data=data[data['Country Name'].isin(subset)], x='Country Name', y='2020')\n",
    "    plt.title('Boxplot of Total Population in 2020 by Country')\n",
    "    plt.xlabel('Country')\n",
    "    plt.ylabel('Total Population (%)')\n",
    "    plt.xticks(rotation=45)\n",
    "    plt.show()"
   ]
  },
  {
   "cell_type": "code",
   "execution_count": null,
   "metadata": {
    "id": "jkWFyPOT8jG5"
   },
   "outputs": [],
   "source": [
    "def plot_scatter_comparison(data, x_column, y_column, color='red'):\n",
    "    plt.figure(figsize=(8, 6))\n",
    "    sns.scatterplot(data=data, x=x_column, y=y_column, color=color)\n",
    "    plt.title(f'Comparative Scatter Plot of Total Population ({x_column} vs {y_column})')\n",
    "    plt.xlabel(f'Total Population in {x_column} (%)')\n",
    "    plt.ylabel(f'Total Population in {y_column} (%)')\n",
    "    plt.show()"
   ]
  },
  {
   "cell_type": "code",
   "execution_count": null,
   "metadata": {
    "id": "JIVamULP8rz2"
   },
   "outputs": [],
   "source": [
    "def cluster_and_plot(data, scaler, num_clusters):\n",
    "    cluster_df = data[['Country Name', '2000', '2020']].dropna()\n",
    "    cluster_df['Change_2000_2020'] = cluster_df['2020'] - cluster_df['2000']\n",
    "\n",
    "    normalized_data = scaler.fit_transform(cluster_df[['2000', '2020', 'Change_2000_2020']])\n",
    "\n",
    "    kmeans = KMeans(n_clusters=num_clusters, random_state=0)\n",
    "    cluster_df['Cluster'] = kmeans.fit_predict(normalized_data)\n",
    "\n",
    "    centers = scaler.inverse_transform(kmeans.cluster_centers_)\n",
    "    plot_clusters(cluster_df, centers)"
   ]
  },
  {
   "cell_type": "code",
   "execution_count": null,
   "metadata": {
    "id": "Mj7bcS5Z8wOU"
   },
   "outputs": [],
   "source": [
    "def exponential(x, a, b, c):\n",
    "    return a * np.exp(b * x) + c"
   ]
  },
  {
   "cell_type": "code",
   "execution_count": null,
   "metadata": {
    "id": "cIbbchlC80N7"
   },
   "outputs": [],
   "source": [
    "def calculate_fit_and_predict(data, model_func, years_to_predict):\n",
    "    x_axis_data = np.array(range(len(data)))\n",
    "    y_axis_data = data.values\n",
    "    params, _ = curve_fit(model_func, x_axis_data, y_axis_data, maxfev=10000)\n",
    "\n",
    "    # Predict future values\n",
    "    future_x = np.array(range(len(data) + years_to_predict))\n",
    "    future_y = model_func(future_x, *params)\n",
    "\n",
    "    return future_x, future_y, params"
   ]
  },
  {
   "cell_type": "code",
   "execution_count": null,
   "metadata": {
    "id": "2mZkGrbc84UF"
   },
   "outputs": [],
   "source": [
    "def calculate_error_ranges(params, cov, x):\n",
    "    partials = np.array([x**i for i in range(len(params))])\n",
    "    sigma_y = np.sqrt(np.sum((cov @ partials)**2, axis=0))\n",
    "    return sigma_y"
   ]
  },
  {
   "cell_type": "code",
   "execution_count": null,
   "metadata": {
    "id": "3FWUO18n9ASd"
   },
   "outputs": [],
   "source": [
    "# Read data\n",
    "file_paths = [data, country_file, indicator_file]\n",
    "orig_population_data, country, indicator = read_data(file_paths)\n",
    "\n",
    "# Clean data\n",
    "population_data = clean_data(orig_population_data)\n",
    "\n",
    "# Data for clustering\n",
    "scaler = StandardScaler()\n",
    "cluster_and_plot(population_data, scaler, 5)"
   ]
  },
  {
   "cell_type": "code",
   "execution_count": null,
   "metadata": {
    "id": "z7yIyMXf9HMu"
   },
   "outputs": [],
   "source": [
    "# Time series plot\n",
    "sns.set_style(\"whitegrid\")\n",
    "sample_countries = ['United States', 'China', 'India', 'Germany', 'Pakistan', 'Afghanistan']\n",
    "time_series_data = population_data[population_data['Country Name'].isin(sample_countries)]\n",
    "\n",
    "# Selecting the last 33 years\n",
    "last_33_years = time_series_data.columns[-33:]\n",
    "\n",
    "plt.figure(figsize=(12, 6))\n",
    "for country in sample_countries:\n",
    "    plt.plot(last_33_years, time_series_data[time_series_data['Country Name'] == country][last_33_years].iloc[0], label=country)\n",
    "\n",
    "plt.title('Trend of Total Population (1990-2022)')\n",
    "plt.xlabel('Year')\n",
    "plt.ylabel('Total Population (%)')\n",
    "plt.legend()\n",
    "plt.xticks(rotation=45)\n",
    "plt.tight_layout()\n",
    "plt.show()"
   ]
  },
  {
   "cell_type": "code",
   "execution_count": null,
   "metadata": {
    "id": "z67De9Be9Php"
   },
   "outputs": [],
   "source": [
    "# Histogram\n",
    "plot_histogram(population_data)\n",
    "\n",
    "# Boxplot\n",
    "region_subset = ['United States', 'China', 'India', 'Germany', 'Afghanistan', 'Australia', 'Nigeria', 'Russia', 'Pakistan', 'South Africa']\n",
    "plot_boxplot(population_data, region_subset)\n",
    "\n",
    "# Scatter plot\n",
    "plot_scatter_comparison(population_data, '2010', '2020', color='red')\n",
    "\n",
    "cluster_years = ['1990', '2000' ,'2010', '2011', '2012', '2013', '2014', '2015', '2016', '2017', '2018', '2019', '2020']\n",
    "cluster_data = population_data.set_index('Country Name')[cluster_years].dropna()\n",
    "\n",
    "# Applying K-Means Clustering\n",
    "kmeans = KMeans(n_clusters=5, random_state=0).fit(cluster_data)\n",
    "cluster_data['Cluster'] = kmeans.labels_\n",
    "\n",
    "# Visualizing the Clusters\n",
    "plt.figure(figsize=(12, 6))\n",
    "for cluster in np.unique(kmeans.labels_):\n",
    "    cluster_subset = cluster_data[cluster_data['Cluster'] == cluster]\n",
    "    plt.scatter(cluster_subset['1990'], cluster_subset['2020'], label=f'Cluster {cluster}')\n",
    "\n",
    "plt.title('Cluster Plot of Total Population (1990 vs 2020)')\n",
    "plt.xlabel('Total Population in 1990 (%)')\n",
    "plt.ylabel('Total Population in 2020 (%)')\n",
    "plt.legend()\n",
    "plt.show()"
   ]
  },
  {
   "cell_type": "code",
   "execution_count": null,
   "metadata": {
    "id": "MzloxHIS9VDF"
   },
   "outputs": [],
   "source": [
    "# Selecting one country from each cluster for the analysis\n",
    "selected_countries = cluster_data.reset_index().groupby('Cluster')['Country Name'].last()\n",
    "selected_countries_list = selected_countries.tolist()\n",
    "\n",
    "# Preparing data for curve fitting\n",
    "fit_years = [str(year) for year in range(2000, 2021)]\n",
    "fit_data = population_data[population_data['Country Name'].isin(selected_countries_list)]\n",
    "fit_data = fit_data[['Country Name'] + fit_years].set_index('Country Name')\n",
    "\n",
    "years_to_predict = 20\n",
    "# Fitting models and predicting for each selected country\n",
    "predictions = {}\n",
    "for country in selected_countries_list:\n",
    "    data = fit_data.loc[country]\n",
    "    future_x, future_y, _ = calculate_fit_and_predict(data, exponential, years_to_predict)\n",
    "    predictions[country] = (future_x, future_y)\n",
    "\n",
    "# Displaying the predictions\n",
    "predictions[selected_countries_list[0]]\n",
    "\n",
    "# Visualizing the best fitting function for each country\n",
    "plt.figure(figsize=(15, 10))\n",
    "for i, country in enumerate(selected_countries_list):\n",
    "    data = fit_data.loc[country]\n",
    "    x_axis_data = np.array(range(len(data)))\n",
    "    y_axis_data = data.values\n",
    "\n",
    "    # Model Curve\n",
    "    params, cov = curve_fit(exponential, x_axis_data, y_axis_data, maxfev=10000)\n",
    "    future_x = np.array(range(len(data) + years_to_predict))\n",
    "    future_y = exponential(future_x, *params)\n",
    "\n",
    "    # Calculate Error ranges\n",
    "    sigma_y = calculate_error_ranges(params, cov, future_x)\n",
    "\n",
    "    # Plotting\n",
    "    plt.subplot(3, 2, i+1)\n",
    "    plt.plot(future_x[:len(data)], y_axis_data, 'o', label=f'Actual Data ({country})')\n",
    "    plt.plot(future_x, future_y, '-', label='Fitted Model')\n",
    "    plt.fill_between(future_x, future_y - sigma_y, future_y + sigma_y, alpha=0.2)\n",
    "    plt.title(country)\n",
    "    plt.xlabel('Years since 2000')\n",
    "    plt.ylabel('Total Population (%)')\n",
    "    plt.legend()\n",
    "\n",
    "plt.tight_layout()\n",
    "plt.show()\n",
    "\n",
    "## The provided Python code performs data analysis and clustering on global population data, \n",
    "## focusing on the years 2000 and 2020. It uses various data visualization techniques, including scatter plots, \n",
    "## histograms, and box plots, to analyze population trends. The K-Means clustering algorithm is applied to \n",
    "## identify differrent clusters of countries based on their population changes. Additionally, the code fits an \n",
    "## exponential growth model to predict future population trends for selected countries, \n",
    "## considering the years 2000 to 2020. The results are visualized with fitted curves and error ranges. \n",
    "## The code is well-organized, leveraging popular libraries like pandas, seaborn, and scikit-learn. \n",
    "\n",
    "## Github Link ##\n",
    "### https://github.com/MalikInamElahi/Applied-Data-Science-1.git"
   ]
  }
 ],
 "metadata": {
  "colab": {
   "authorship_tag": "ABX9TyMNUd2HgT+e+K2nICMvbMnh",
   "provenance": []
  },
  "kernelspec": {
   "display_name": "Python 3 (ipykernel)",
   "language": "python",
   "name": "python3"
  },
  "language_info": {
   "codemirror_mode": {
    "name": "ipython",
    "version": 3
   },
   "file_extension": ".py",
   "mimetype": "text/x-python",
   "name": "python",
   "nbconvert_exporter": "python",
   "pygments_lexer": "ipython3",
   "version": "3.11.5"
  }
 },
 "nbformat": 4,
 "nbformat_minor": 1
}
